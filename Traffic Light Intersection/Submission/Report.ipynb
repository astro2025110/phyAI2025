{
 "cells": [
  {
   "cell_type": "markdown",
   "id": "f075ad65",
   "metadata": {},
   "source": [
    "#               Project 1: To Brake ir Not to Brake?"
   ]
  },
  {
   "cell_type": "markdown",
   "id": "82a2b9ee",
   "metadata": {},
   "source": [
    "### Chris Ogunsami ASU PHY432 Computational Methods in Physics"
   ]
  },
  {
   "cell_type": "markdown",
   "id": "69ca1742-cb77-498b-b526-7e1803ab209e",
   "metadata": {},
   "source": [
    "### February 28, 2025"
   ]
  },
  {
   "cell_type": "markdown",
   "id": "3b74b758-eb96-4e31-839f-77351240539f",
   "metadata": {},
   "source": [
    "## 2. Background"
   ]
  },
  {
   "cell_type": "code",
   "execution_count": 4,
   "id": "e9fa13a8-4067-4679-91a1-9f4a8e1a877e",
   "metadata": {},
   "outputs": [],
   "source": [
    "from IPython.display import Image"
   ]
  },
  {
   "cell_type": "markdown",
   "id": "1ec9fa86-be97-43c6-bdda-56fa37d46758",
   "metadata": {},
   "source": [
    "During this project, we were tasked to analyze the motion of a car approaching an intersection at 55 kilometers per hour. At any given distance from the intersection, the driver notices the traffic light change from green to yellow. Given a three second period between the moment the light changes from green to red, the driver has to decide whether to slow down before the intersection or continue driving at the same initial speed. In the process of making that decion, the driver will take $\\delta = 0.8 $ seconds to react. Our task is to predict her position and velocity over time and determine what approach distances are considered safe or dangerous given an initial velocity. Finally, we determine at what range of approach distances(the \"dilenma zone\" that would be considered dangerous for the driver were to react at."
   ]
  },
  {
   "cell_type": "markdown",
   "id": "424a54aa-e94c-4391-902e-5a307d211bf0",
   "metadata": {},
   "source": [
    "Newton's kinematic equations of motion were used to model the change in the car's speed V(t) and position x(t) over time. \n",
    "\n",
    "$Brake:$\n",
    "\n",
    "$\\begin{equation}\n",
    " v(t) =\n",
    "   \\left\\{\\begin{array}{lr}\n",
    "       V_o, & 0 < t \\le \\delta \\\\\n",
    "       V_o + a(t-\\delta), & \\delta < t \\le \\tau \\\\\n",
    "       0, & t > \\tau\n",
    "    \\end{array}\\right.\n",
    " \\end{equation}$\n",
    "\n",
    " $\\begin{equation}\n",
    " x(t) =\n",
    "   \\left\\{\\begin{array}{lr}\n",
    "       x_o + V_o(\\delta - t), & 0 < t \\le \\delta \\\\\n",
    "       x_o + V_o\\delta + a(t-\\delta)^2/2, & \\delta < t \\le \\tau \\\\\n",
    "       x_f, & t > \\tau\n",
    "    \\end{array}\\right.\n",
    " \\end{equation}$\n",
    "\n",
    "$Drive:$\n",
    "\n",
    "$\\begin{equation}\n",
    "V(t) = V_o\n",
    "\\end{equation}$\n",
    "\n",
    " $\\begin{equation}\n",
    " x(t) =\n",
    "   \\left\\{\\begin{array}{lr}\n",
    "       x_o + V_ot, & 0 < t \\le \\delta \\\\\n",
    "       x_o + V_o(\\delta + t), & \\delta < t \\le \\tau \\\\\n",
    "       x_f, & t > \\tau\n",
    "    \\end{array}\\right.\n",
    " \\end{equation}$\n",
    "\n",
    "As you may have noticed, I have introduced a $\\delta$ time constant into these expressions. The problem states that the driver takes approximately 0.8 seconds from the moment they see the traffic light change to yellow to the moment they decide whether they will continue driving or slow down before they reach the intersection. What $\\delta$ does is it shifts the original functions by an amount. Hence, V(t) -> V(t + $\\delta$) and x(t) -> x(t + $\\delta$). Itis convenient to treat these kinematic equations as step functions in this scenario.\n",
    "\n"
   ]
  },
  {
   "cell_type": "markdown",
   "id": "c1f2bf13-0fbb-4a91-b00e-9aa5ab7ebc3b",
   "metadata": {},
   "source": [
    "## 3: Results and Discussion"
   ]
  },
  {
   "cell_type": "markdown",
   "id": "73df0523-1737-4203-9faa-9736e7fedbf2",
   "metadata": {},
   "source": [
    "### 3.1: Testing the Model"
   ]
  },
  {
   "cell_type": "markdown",
   "id": "f9b21cad-d517-46fd-a8e5-849efb3788e1",
   "metadata": {},
   "source": [
    "The equations of motion were integrated into python code with their plots shown below in Figures 1-3. The velocity and position were plotted over a period of 7 seconds. The grey zone on the plot of x(t) indicates the width of the intersection. The dashed red line indicates $\\tau$ or the point in time where the traffic light switches to red."
   ]
  },
  {
   "cell_type": "markdown",
   "id": "de0f715e-f075-4e1f-bb97-3cea339c4b9e",
   "metadata": {},
   "source": [
    "<div>\n",
    "<img src=\"x0=-30.png\" width=\"500\"/>\n",
    "</div>\n",
    "Figure 1: Time series for v(t) and x(t) for x0=-30m. This situation is dangerous for the driver because whether they choose to drive or brake, they will still end up in the intersection(grey zone) when the traffic light switches to red. \n",
    "\n",
    "<div>\n",
    "<img src=\"x0=-70.png\" width=\"500\"/>\n",
    "</div>\n",
    "Figure 2: Time series for v(t) and x(t) for x0=-70m. This situation is safe for the driver as long as they decide to brake seeing as they will stop approximately 20 meters from the intersection. It would be dangerous if they were to continue driving after 3 seconds.\n",
    "\n",
    "<div>\n",
    "<img src=\"x0=-0.5.png\" width=\"500\"/>\n",
    "</div>\n",
    "Figure 3: Time series for v(t) and x(t) for x0=-0.5m. This situation is safe for the driver regardless of their decision because they will pass the intersection whether they decide to brake or continue driving."
   ]
  },
  {
   "cell_type": "markdown",
   "id": "d1b80d4a-d505-4d0c-95f7-1794adc5a6d3",
   "metadata": {},
   "source": [
    "### 3.2 Classification"
   ]
  },
  {
   "cell_type": "markdown",
   "id": "6cc8f151-e2a6-42fb-831e-117ffa121782",
   "metadata": {},
   "source": [
    "Once the position and velocities were modeled above, next I classified whether a given approach distance at our initial velocity was safe or dangerous. The following algorithm below was used."
   ]
  },
  {
   "cell_type": "code",
   "execution_count": 160,
   "id": "4f5b8b67-33fe-4267-a2af-81805780ab64",
   "metadata": {},
   "outputs": [],
   "source": [
    "def outcome(x0, ti, tau, dt, W, v0=15):\n",
    "    tmax = 2*tau\n",
    "    t = np.arange(0, tmax, dt)\n",
    "\n",
    "    x_drive = drive_x(v0, t, x0, delta=ti)\n",
    "    v_drive = v0*np.heaviside(t, 1)\n",
    "    v_break = brake_v(v0, t, delta=ti)\n",
    "    x_break = brake_x(v0, t, x0, delta=ti)\n",
    "\n",
    "    i_tau = np.where(t == tau)[0]\n",
    "    #Option: Drive(x>W for t>tau)\n",
    "    if x_drive[i_tau+1] > W or x_break[i_tau-1] < 0:\n",
    "        return 1\n",
    "    else:\n",
    "        return 0"
   ]
  },
  {
   "cell_type": "markdown",
   "id": "d905231e-49b1-4030-a953-dd220695a20e",
   "metadata": {},
   "source": [
    "For this problem, it is given that if the decision to drive was made and the position of the car after 3 seconds  was found to be past the intersection(x>W) or if the decision to brake was made and the car stopped before the intersection(x<0) then the situation was safe. In this algorithm, I utilized the time values for both \"just before\" and \"just after\" the traffic light switches to red. I believe this algoritm is consistent with Figures 1-3."
   ]
  },
  {
   "cell_type": "markdown",
   "id": "e8a4e213-cd67-408f-afb8-210dde963faa",
   "metadata": {},
   "source": [
    "Next, I iterated through my classification function above to determine a \"danger zone\" of x0 for our given initial velocity."
   ]
  },
  {
   "cell_type": "markdown",
   "id": "abbb8ade-dd91-40e9-b7c2-816f927aec21",
   "metadata": {},
   "source": [
    "<div>\n",
    "<img src=\"Classification.png\" width=\"500\"/>\n",
    "</div>\n",
    "Figure 4: This figure indicates which locations are considered dangerous to be approaching the traffic light at our initial velocity."
   ]
  },
  {
   "cell_type": "markdown",
   "id": "54609037-064b-4754-ac2b-25b6674da28f",
   "metadata": {},
   "source": [
    "The following code was used to numerically determine x0A,x0B, and the dilenma zone s."
   ]
  },
  {
   "cell_type": "code",
   "execution_count": 141,
   "id": "e4dc6e0e-9d45-4d2f-9ed5-58c2fb186bac",
   "metadata": {},
   "outputs": [
    {
     "data": {
      "text/plain": [
       "-15.100000000004826"
      ]
     },
     "execution_count": 141,
     "metadata": {},
     "output_type": "execute_result"
    }
   ],
   "source": [
    "last = np.where(y == 0)[0][-1]\n",
    "x0A = x0[last]\n",
    "x0A"
   ]
  },
  {
   "cell_type": "code",
   "execution_count": 140,
   "id": "5a4f94fd-fcaf-4462-baaf-f23a4c395173",
   "metadata": {},
   "outputs": [
    {
     "data": {
      "text/plain": [
       "-37.70000000000354"
      ]
     },
     "execution_count": 140,
     "metadata": {},
     "output_type": "execute_result"
    }
   ],
   "source": [
    "first = np.where(y == 0)[0][0]\n",
    "x0B = x0[first]\n",
    "x0B"
   ]
  },
  {
   "cell_type": "code",
   "execution_count": 163,
   "id": "86640210-d10f-4805-825d-6ca47921f292",
   "metadata": {},
   "outputs": [
    {
     "data": {
      "text/plain": [
       "22.599999999998715"
      ]
     },
     "execution_count": 163,
     "metadata": {},
     "output_type": "execute_result"
    }
   ],
   "source": [
    "s = abs(x0A - x0B)\n",
    "s"
   ]
  },
  {
   "cell_type": "markdown",
   "id": "08611e54-61b1-4e0b-bcad-f4c9a579fd41",
   "metadata": {},
   "source": [
    "A numerical fuction was developed for the dilemna zone as a function of initial speed."
   ]
  },
  {
   "cell_type": "code",
   "execution_count": 165,
   "id": "077d8c44-16e8-4e84-bee7-c47b591225e1",
   "metadata": {},
   "outputs": [],
   "source": [
    "def s(v0):\n",
    "    return W - tau*v0 - (v0*v0)/(2*a)"
   ]
  },
  {
   "cell_type": "markdown",
   "id": "6dc409d2-5380-4aa5-baef-57044073f6a3",
   "metadata": {},
   "source": [
    "### 3.3 Analytical Solution"
   ]
  },
  {
   "cell_type": "markdown",
   "id": "e5aebc87-5d04-4c2b-99dd-2b72ce56385d",
   "metadata": {},
   "source": [
    "Next, the dilenma zona was solved analytically. First, if the decision is to continue driving, the car will be moving at the initial velocity which is the speed limit for the road. \n",
    "\n",
    "$$ \\Delta x = V_o \\tau $$\n",
    "\n",
    "The end of the intersection is located at x=+30 m. Therefore, the total displacement needed to reach the traffic light and cross the intersection is $$ W + x_o $$. Therefore,\n",
    "\n",
    "$$ \\Delta x = W - x_o = V_o \\tau$$\n",
    "$$ -> x_o^A = W - V_o \\tau = 30 - (15)(3) = -15  $$\n",
    "\n",
    "Using the following kinematic equation, $x_o^B$ was found to be:\n",
    "\n",
    "$$ V^2 = V_o^2 -2a\\Delta x $$\n",
    "$$ x_o^B = V_o^2 / 2a = -37.5 $$\n",
    "\n",
    "Finally, our dilenma zone was found to be:\n",
    "\n",
    "$$ s = abs(x_o^A - x_o^B) $$ or $$ [-37.5, -15] $$\n",
    "\n",
    "The dilenma zone as a function of $V_o$ was also solved analytically:\n",
    "$$ s(V_o) = W - \\tau V_o - v_o^2 / 2a $$"
   ]
  },
  {
   "cell_type": "markdown",
   "id": "f456c3ba-332d-4ee1-96d6-0b8fe040b08c",
   "metadata": {},
   "source": [
    "# 4. Summary"
   ]
  },
  {
   "cell_type": "markdown",
   "id": "148dd4f5-f44e-4677-bf52-67bf37164d8a",
   "metadata": {},
   "source": [
    "#### In conclusion, our analytical results and numerical results differ slightly but are close. If we consider our anlytical results to be the \"true value\", then we would have a 0.66% error for $x_o^A$, 0.53% error for $x_o^B$, and 0.44% error for s. The differences can be attributed to computer round-off error from an improperly chosen precision value for calculations. Numerical results may also have been influenced by the step size chosen when iterating over a range of data."
   ]
  },
  {
   "cell_type": "markdown",
   "id": "f0fc38d6-a99b-43db-8a03-ffd8b483f158",
   "metadata": {},
   "source": [
    "# 5. References"
   ]
  },
  {
   "cell_type": "markdown",
   "id": "5e662a9e-cbde-4806-b8a3-7b9fdf8a4fd0",
   "metadata": {},
   "source": [
    "1. Numpy Heaviside. url: https://numpy.org/doc/2.1/reference/generated/numpy.heaviside.html"
   ]
  },
  {
   "cell_type": "markdown",
   "id": "ed684311-7f07-4536-b261-20cf0e18d6f2",
   "metadata": {},
   "source": [
    "# 6. Appendix"
   ]
  },
  {
   "cell_type": "markdown",
   "id": "71d42d43-79f2-48db-8a30-f3c8cb4f7483",
   "metadata": {},
   "source": [
    "# Code"
   ]
  },
  {
   "cell_type": "markdown",
   "id": "c15dcf7c-338d-401e-8d81-317644627cf7",
   "metadata": {},
   "source": [
    "Functions"
   ]
  },
  {
   "cell_type": "code",
   "execution_count": 15,
   "id": "dd50a787-5c81-4020-96d2-a210fc6df5f3",
   "metadata": {},
   "outputs": [],
   "source": [
    "import numpy as np\n",
    "import matplotlib.pyplot as plt"
   ]
  },
  {
   "cell_type": "code",
   "execution_count": 24,
   "id": "c2774013-ac16-4234-b891-d6e440cefdd8",
   "metadata": {},
   "outputs": [],
   "source": [
    "#functions for v(t) and x(t)\n",
    "def brake_v(v0, t, a=-3, delta=0.8):\n",
    "#                           0   if t-delta  < 0\n",
    "#heaviside(t-delta, t) =    t   if t-delta == 0\n",
    "#                           1   if t-delta  > 0\n",
    "    t1 = np.heaviside(delta-t, 1)\n",
    "    v1 = v0*t1\n",
    "    #Add deceleration component here\n",
    "    delta2 = delta*np.heaviside(t-delta, 0)\n",
    "    t2 = t*np.heaviside(t-delta, 0) - delta2\n",
    "    v2 = v0*np.heaviside(t-delta, 0) + a*t2\n",
    "    #put it all together\n",
    "    v = v1+v2\n",
    "    v = v*np.heaviside(v, v)\n",
    "    return v\n",
    "\n",
    "def brake_x(v0, t, x0, a=-3, delta=0.8):\n",
    "    #Begin with t<delta. x should increase by the same increment here\n",
    "    t1 = np.heaviside(delta-t, 1)\n",
    "    x1 = x0*t1 + (v0*t1)*t\n",
    "    v = brake_v(v0, t)\n",
    "    del_v = v - v0*np.heaviside(t, 1)\n",
    "    #Add deceleration component here. Start with time\n",
    "    t2 = t*np.heaviside(t-delta, 0) - delta*np.heaviside(t-delta, 0)\n",
    "    brake = np.where(t == delta)[0]\n",
    "    x2 = x1[brake]*np.heaviside(t-delta, 0) + v0*t2 + 0.5*a*(t2**2)\n",
    "    x3 = x1+x2\n",
    "    #Insert stopping point. This is when V=0 or the car comes to a stop.\n",
    "    #Replace the displacements beyond the stopping point with xstop\n",
    "    stop = np.where(v == 0)[0]\n",
    "    stop = stop[0]\n",
    "    rest = x3[stop]\n",
    "    xf1 =  x3*np.heaviside(t[stop]-t, 1)\n",
    "    xf2 = rest*np.heaviside(t-t[stop], 0)\n",
    "    xf = xf1+xf2\n",
    "    return xf\n",
    "\n",
    "def drive_x(v0, t, x0, delta=0.8):\n",
    "    t1 = np.heaviside(delta-t, 1)\n",
    "    x1 = (x0 + v0*t)*t1\n",
    "    t2 = t*np.heaviside(t-delta, 0) - delta*np.heaviside(t-delta, 0)\n",
    "    i = np.where(t == delta)[0]\n",
    "    x2 = x1[i]*np.heaviside(t-delta, 0) + v0*t2\n",
    "    return x1+x2"
   ]
  },
  {
   "cell_type": "markdown",
   "id": "d6a457dc-b466-4456-854a-111dcfad4465",
   "metadata": {},
   "source": [
    "Test values"
   ]
  },
  {
   "cell_type": "code",
   "execution_count": 25,
   "id": "9beed9ce-9e50-4e25-8cc3-c81afe96892b",
   "metadata": {},
   "outputs": [],
   "source": [
    "t = np.arange(0, 7, 0.1)\n",
    "\n",
    "x0 = -30\n",
    "v0 = 15.0\n",
    "tau = 3\n",
    "W = 30\n",
    "\n",
    "v_brake = brake_v(v0, t)\n",
    "v_drive = v0*np.heaviside(t, 1)\n",
    "x_brake = brake_x(v0, t, x0)\n",
    "x_drive = drive_x(v0, t, x0)"
   ]
  },
  {
   "cell_type": "markdown",
   "id": "ac7cf91b-2ceb-41ab-81e9-f527e7e84f8e",
   "metadata": {},
   "source": [
    "Plots"
   ]
  },
  {
   "cell_type": "code",
   "execution_count": 23,
   "id": "90079bea-42e0-4579-aade-51f4b3fcdb3e",
   "metadata": {},
   "outputs": [],
   "source": [
    "fig, axes = plt.subplots(1, 2, figsize=(10, 6))\n",
    "fig.suptitle(f\"Motion of car for x0 = {x0} m\")\n",
    "\n",
    "axes[0].plot(t, v_brake, 'b', label='brake') \n",
    "axes[1].plot(t, x_brake, 'b', label='brake')\n",
    "axes[0].plot(t, v_drive, 'r', label='drive')\n",
    "axes[1].plot(t, x_drive, 'r', label='drive')\n",
    "axes[0].plot([tau, tau], [x0, 1.05*W], \"--\", color=\"red\", lw=1)\n",
    "axes[1].fill_between([0, 7], [W, W], color=\"black\", alpha=0.3)\n",
    "axes[1].plot([tau, tau], [x0, 1.05*W], \"--\", color=\"red\", lw=1)\n",
    "\n",
    "axes[0].set_xlim(0, 6.9)\n",
    "axes[0].set_ylim(0, v0+10)\n",
    "axes[0].set_xlabel(\"time t (s)\")\n",
    "axes[0].set_ylabel(\"speed v(t) (m/s)\")\n",
    "axes[0].legend(loc=\"best\")   \n",
    "axes[1].set_xlabel(\"time t (s)\")\n",
    "axes[1].set_ylabel(\"position x(t) (m)\")\n",
    "axes[1].set_ylim(x0, 80)\n",
    "axes[1].set_xlim(0, 6.9)\n",
    "axes[1].legend(loc=\"best\")\n",
    "plt.tight_layout()\n",
    "plt.savefig(f\"x0={x0}.png\")\n",
    "plt.close()"
   ]
  },
  {
   "cell_type": "markdown",
   "id": "4c3b52ff-016b-4dba-841a-4292c6e29741",
   "metadata": {},
   "source": [
    "c) Classification algorithm"
   ]
  },
  {
   "cell_type": "code",
   "execution_count": 134,
   "id": "21ecc9e1-1928-4db8-b638-7efc33aa17d4",
   "metadata": {},
   "outputs": [],
   "source": [
    "def outcome(x0, ti, tau, dt, W, v0=15):\n",
    "    tmax = 2*tau\n",
    "    t = np.arange(0, tmax, dt)\n",
    "\n",
    "    x_drive = drive_x(v0, t, x0, delta=ti)\n",
    "    v_drive = v0*np.heaviside(t, 1)\n",
    "    v_break = brake_v(v0, t, delta=ti)\n",
    "    x_break = brake_x(v0, t, x0, delta=ti)\n",
    "\n",
    "    i_tau = np.where(t == tau)[0]\n",
    "    #Option: Drive(x>W for t>tau)\n",
    "    if x_drive[i_tau+1] > W or x_break[i_tau-1] < 0:\n",
    "        return 1\n",
    "    else:\n",
    "        return 0"
   ]
  },
  {
   "cell_type": "markdown",
   "id": "49ce3aa1-33b8-4374-b090-d01c803e1544",
   "metadata": {},
   "source": [
    "d) Dilemma zone"
   ]
  },
  {
   "cell_type": "code",
   "execution_count": 138,
   "id": "4b505e2f-683e-4346-935c-e3276c129486",
   "metadata": {},
   "outputs": [],
   "source": [
    "x0 = np.arange(-100, 0, 0.1)\n",
    "ti = 0.8\n",
    "tau = 3\n",
    "dt = 1e-3\n",
    "W = 30\n",
    "y = np.array([])\n",
    "for i in x0:\n",
    "    y = np.append(y,outcome(i, ti, tau, dt, W))\n"
   ]
  },
  {
   "cell_type": "code",
   "execution_count": 164,
   "id": "88104228-933a-470a-ab86-d14c53f6fcc8",
   "metadata": {},
   "outputs": [
    {
     "data": {
      "image/png": "[encoded data removed]",
      "text/plain": [
       "<Figure size 640x480 with 1 Axes>"
      ]
     },
     "metadata": {},
     "output_type": "display_data"
    }
   ],
   "source": [
    "plt.plot(x0,y)\n",
    "plt.xlabel(\"x0 (m)\")\n",
    "plt.ylabel(\"Safe = 1, Dangerous = 0\")\n",
    "plt.title(f\"Dilenma Zone for $V_o$ = {v0} (m/s)\")\n",
    "plt.savefig(\"Classification.png\")"
   ]
  }
 ],
 "metadata": {
  "kernelspec": {
   "display_name": "Python 3 (ipykernel)",
   "language": "python",
   "name": "python3"
  },
  "language_info": {
   "codemirror_mode": {
    "name": "ipython",
    "version": 3
   },
   "file_extension": ".py",
   "mimetype": "text/x-python",
   "name": "python",
   "nbconvert_exporter": "python",
   "pygments_lexer": "ipython3",
   "version": "3.10.16"
  }
 },
 "nbformat": 4,
 "nbformat_minor": 5
}
