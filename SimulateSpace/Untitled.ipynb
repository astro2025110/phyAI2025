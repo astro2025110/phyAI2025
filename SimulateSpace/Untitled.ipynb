{
 "cells": [
  {
   "cell_type": "code",
   "execution_count": null,
   "id": "f8a3ff1a-7d82-42b9-aae9-cd9d5aa7cfc6",
   "metadata": {},
   "outputs": [],
   "source": [
    "from importlib import reload"
   ]
  },
  {
   "cell_type": "code",
   "execution_count": null,
   "id": "ddda5acf-341a-4532-9861-b72bd288c4df",
   "metadata": {},
   "outputs": [],
   "source": [
    "import results"
   ]
  },
  {
   "cell_type": "code",
   "execution_count": null,
   "id": "2544867d-1b7b-49da-80d8-6a74521dffba",
   "metadata": {},
   "outputs": [],
   "source": [
    "reload(results)"
   ]
  },
  {
   "cell_type": "code",
   "execution_count": null,
   "id": "9fa513ce-91d4-4025-ad2e-539716f54529",
   "metadata": {},
   "outputs": [],
   "source": [
    "run results"
   ]
  },
  {
   "cell_type": "code",
   "execution_count": null,
   "id": "f4b0c0b4-aa14-4306-bf5b-886ca4b92cef",
   "metadata": {},
   "outputs": [],
   "source": []
  }
 ],
 "metadata": {
  "kernelspec": {
   "display_name": "Python 3 (ipykernel)",
   "language": "python",
   "name": "python3"
  },
  "language_info": {
   "codemirror_mode": {
    "name": "ipython",
    "version": 3
   },
   "file_extension": ".py",
   "mimetype": "text/x-python",
   "name": "python",
   "nbconvert_exporter": "python",
   "pygments_lexer": "ipython3",
   "version": "3.10.16"
  }
 },
 "nbformat": 4,
 "nbformat_minor": 5
}
